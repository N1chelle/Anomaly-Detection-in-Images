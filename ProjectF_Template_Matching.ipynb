{
 "cells": [
  {
   "cell_type": "markdown",
   "id": "4af90453",
   "metadata": {},
   "source": [
    "## Import Libraries"
   ]
  },
  {
   "cell_type": "code",
   "execution_count": 1,
   "id": "dbe7c883",
   "metadata": {},
   "outputs": [
    {
     "name": "stdout",
     "output_type": "stream",
     "text": [
      "Requirement already satisfied: scikit-image in c:\\users\\nichelle machado\\.conda\\envs\\computervision\\lib\\site-packages (0.19.1)\n",
      "Requirement already satisfied: packaging>=20.0 in c:\\users\\nichelle machado\\.conda\\envs\\computervision\\lib\\site-packages (from scikit-image) (21.3)\n",
      "Requirement already satisfied: tifffile>=2019.7.26 in c:\\users\\nichelle machado\\.conda\\envs\\computervision\\lib\\site-packages (from scikit-image) (2021.11.2)\n",
      "Requirement already satisfied: networkx>=2.2 in c:\\users\\nichelle machado\\.conda\\envs\\computervision\\lib\\site-packages (from scikit-image) (2.6.3)\n",
      "Requirement already satisfied: numpy>=1.17.0 in c:\\users\\nichelle machado\\.conda\\envs\\computervision\\lib\\site-packages (from scikit-image) (1.21.5)\n",
      "Requirement already satisfied: pillow!=7.1.0,!=7.1.1,!=8.3.0,>=6.1.0 in c:\\users\\nichelle machado\\.conda\\envs\\computervision\\lib\\site-packages (from scikit-image) (8.4.0)\n",
      "Requirement already satisfied: imageio>=2.4.1 in c:\\users\\nichelle machado\\.conda\\envs\\computervision\\lib\\site-packages (from scikit-image) (2.14.1)\n",
      "Requirement already satisfied: PyWavelets>=1.1.1 in c:\\users\\nichelle machado\\.conda\\envs\\computervision\\lib\\site-packages (from scikit-image) (1.2.0)\n",
      "Requirement already satisfied: scipy>=1.4.1 in c:\\users\\nichelle machado\\.conda\\envs\\computervision\\lib\\site-packages (from scikit-image) (1.7.3)\n",
      "Requirement already satisfied: pyparsing!=3.0.5,>=2.0.2 in c:\\users\\nichelle machado\\.conda\\envs\\computervision\\lib\\site-packages (from packaging>=20.0->scikit-image) (3.0.7)\n",
      "Note: you may need to restart the kernel to use updated packages.\n"
     ]
    }
   ],
   "source": [
    "pip install scikit-image"
   ]
  },
  {
   "cell_type": "code",
   "execution_count": 2,
   "id": "22cf029c",
   "metadata": {},
   "outputs": [
    {
     "name": "stdout",
     "output_type": "stream",
     "text": [
      "Requirement already satisfied: imutils in c:\\users\\nichelle machado\\.conda\\envs\\computervision\\lib\\site-packages (0.5.4)\n",
      "Note: you may need to restart the kernel to use updated packages.\n"
     ]
    }
   ],
   "source": [
    "pip install imutils"
   ]
  },
  {
   "cell_type": "code",
   "execution_count": 3,
   "id": "dd4884c4",
   "metadata": {},
   "outputs": [],
   "source": [
    "import numpy as np\n",
    "import cv2\n",
    "import matplotlib.pyplot as plt\n",
    "%matplotlib inline  \n",
    "from skimage.metrics import structural_similarity\n",
    "import argparse\n",
    "import imutils\n",
    "import cv2"
   ]
  },
  {
   "cell_type": "markdown",
   "id": "214c2ec3",
   "metadata": {},
   "source": [
    "## Normal Dice"
   ]
  },
  {
   "cell_type": "markdown",
   "id": "48387898",
   "metadata": {},
   "source": [
    "#### Numpy Array"
   ]
  },
  {
   "cell_type": "code",
   "execution_count": 246,
   "id": "55233569",
   "metadata": {},
   "outputs": [],
   "source": [
    "def read_img(num1, num2):\n",
    "    num1 = str(num1)\n",
    "    num2 = str(num2)+'.png'\n",
    "    img = cv2.imread(\"C:\\\\Users\\\\Nichelle Machado\\\\Becode Projects\\\\becode_dice_data\\\\train_set\\\\\"+num1+\"\\\\16_09_21_\"+num1+\"_\"+num2,0)\n",
    "    return img\n",
    "    \n",
    "img_00 = read_img('00','020')\n",
    "img_01 = read_img('01','011')\n",
    "img_02 = read_img('02', '011')\n",
    "img_03 = read_img('03','000')\n",
    "img_04 = read_img('04','011')\n",
    "img_05 = read_img('05','011')\n",
    "img_06 = read_img('06','000')"
   ]
  },
  {
   "cell_type": "code",
   "execution_count": 282,
   "id": "3ec9efda",
   "metadata": {},
   "outputs": [],
   "source": [
    "def read_ano_img(num):\n",
    "    num = str(num)+'.png'\n",
    "    img = cv2.imread(\"C:\\\\Users\\\\Nichelle Machado\\\\Becode Projects\\\\becode_dice_data\\\\train_set\\\\ano\\\\17_11_21_anomalies_\"+num,0)\n",
    "    return img"
   ]
  },
  {
   "cell_type": "code",
   "execution_count": 283,
   "id": "4cffe1fe",
   "metadata": {},
   "outputs": [],
   "source": [
    "img_ano = read_ano_img('042')"
   ]
  },
  {
   "cell_type": "code",
   "execution_count": 284,
   "id": "55ab7518",
   "metadata": {},
   "outputs": [
    {
     "data": {
      "text/plain": [
       "array([[22, 22, 23, ..., 33, 30, 28],\n",
       "       [22, 22, 23, ..., 32, 30, 31],\n",
       "       [22, 22, 22, ..., 32, 33, 38],\n",
       "       ...,\n",
       "       [46, 48, 49, ..., 52, 53, 54],\n",
       "       [47, 48, 47, ..., 55, 55, 56],\n",
       "       [45, 45, 43, ..., 57, 56, 57]], dtype=uint8)"
      ]
     },
     "execution_count": 284,
     "metadata": {},
     "output_type": "execute_result"
    }
   ],
   "source": [
    "img_ano"
   ]
  },
  {
   "cell_type": "code",
   "execution_count": 5,
   "id": "bff7bd67",
   "metadata": {},
   "outputs": [
    {
     "data": {
      "text/plain": [
       "array([[28, 27, 27, ..., 20, 22, 25],\n",
       "       [26, 25, 25, ..., 26, 24, 23],\n",
       "       [24, 23, 24, ..., 27, 26, 24],\n",
       "       ...,\n",
       "       [38, 41, 47, ..., 54, 49, 44],\n",
       "       [38, 41, 45, ..., 48, 44, 42],\n",
       "       [37, 39, 41, ..., 42, 43, 42]], dtype=uint8)"
      ]
     },
     "execution_count": 5,
     "metadata": {},
     "output_type": "execute_result"
    }
   ],
   "source": [
    "img_00"
   ]
  },
  {
   "cell_type": "markdown",
   "id": "3b2fdbb2",
   "metadata": {},
   "source": [
    "#### Image"
   ]
  },
  {
   "cell_type": "code",
   "execution_count": 6,
   "id": "365f4abf",
   "metadata": {
    "scrolled": true
   },
   "outputs": [
    {
     "data": {
      "text/plain": [
       "<matplotlib.image.AxesImage at 0x192ac188648>"
      ]
     },
     "execution_count": 6,
     "metadata": {},
     "output_type": "execute_result"
    },
    {
     "data": {
      "image/png": "[encoded data removed]",
      "text/plain": [
       "<Figure size 432x288 with 1 Axes>"
      ]
     },
     "metadata": {
      "needs_background": "light"
     },
     "output_type": "display_data"
    }
   ],
   "source": [
    "plt.imshow(img_01, cmap='gray')"
   ]
  },
  {
   "cell_type": "code",
   "execution_count": 7,
   "id": "61786812",
   "metadata": {},
   "outputs": [],
   "source": [
    "unique, counts = np.unique(img_00, return_counts=True)"
   ]
  },
  {
   "cell_type": "code",
   "execution_count": 8,
   "id": "2ab6ef07",
   "metadata": {
    "scrolled": true
   },
   "outputs": [
    {
     "data": {
      "text/plain": [
       "(array([26., 25., 25., 26., 25., 25., 26., 25., 25., 26.]),\n",
       " array([  2. ,  27.3,  52.6,  77.9, 103.2, 128.5, 153.8, 179.1, 204.4,\n",
       "        229.7, 255. ]),\n",
       " <BarContainer object of 10 artists>)"
      ]
     },
     "execution_count": 8,
     "metadata": {},
     "output_type": "execute_result"
    },
    {
     "data": {
      "image/png": "[encoded data removed]",
      "text/plain": [
       "<Figure size 432x288 with 1 Axes>"
      ]
     },
     "metadata": {
      "needs_background": "light"
     },
     "output_type": "display_data"
    }
   ],
   "source": [
    "plt.hist(unique)"
   ]
  },
  {
   "cell_type": "code",
   "execution_count": 9,
   "id": "95097e6b",
   "metadata": {},
   "outputs": [
    {
     "data": {
      "text/plain": [
       "(array([ 791,  445,  321,  287,  435,  632, 1156, 1891, 8464, 1962],\n",
       "       dtype=int64),\n",
       " array([  2. ,  27.3,  52.6,  77.9, 103.2, 128.5, 153.8, 179.1, 204.4,\n",
       "        229.7, 255. ]))"
      ]
     },
     "execution_count": 9,
     "metadata": {},
     "output_type": "execute_result"
    }
   ],
   "source": [
    "np.histogram(img_00)"
   ]
  },
  {
   "cell_type": "code",
   "execution_count": 10,
   "id": "d45ddf02",
   "metadata": {},
   "outputs": [
    {
     "data": {
      "image/png": "[encoded data removed]",
      "text/plain": [
       "<Figure size 1152x288 with 1 Axes>"
      ]
     },
     "metadata": {
      "needs_background": "light"
     },
     "output_type": "display_data"
    },
    {
     "data": {
      "image/png": "[encoded data removed]",
      "text/plain": [
       "<Figure size 1296x720 with 2 Axes>"
      ]
     },
     "metadata": {
      "needs_background": "light"
     },
     "output_type": "display_data"
    },
    {
     "data": {
      "image/png": "[encoded data removed]",
      "text/plain": [
       "<Figure size 1296x1008 with 2 Axes>"
      ]
     },
     "metadata": {
      "needs_background": "light"
     },
     "output_type": "display_data"
    },
    {
     "data": {
      "image/png": "[encoded data removed]",
      "text/plain": [
       "<Figure size 1440x1440 with 1 Axes>"
      ]
     },
     "metadata": {
      "needs_background": "light"
     },
     "output_type": "display_data"
    },
    {
     "data": {
      "image/png": "[encoded data removed]",
      "text/plain": [
       "<Figure size 1872x2160 with 1 Axes>"
      ]
     },
     "metadata": {
      "needs_background": "light"
     },
     "output_type": "display_data"
    }
   ],
   "source": [
    "plt.figure(1, figsize=(16,4))\n",
    "plt.subplot(111)\n",
    "plt.hist(img_00) \n",
    "plt.title(\"Histogram Dice 1\") \n",
    "plt.show()\n",
    "\n",
    "plt.figure(1, figsize=(18,10))\n",
    "ax = plt.subplot(2,2,1)\n",
    "plt.hist(img_01) \n",
    "plt.title(\"Histogram Dice 2a\") \n",
    "\n",
    "\n",
    "ax = plt.subplot(2,2,2)\n",
    "plt.hist(img_02) \n",
    "plt.title(\"Histogram Dice 2b\") \n",
    "plt.show()\n",
    "\n",
    "plt.figure(1, figsize=(18,14))\n",
    "ax = plt.subplot(3,2,1)\n",
    "plt.hist(img_03) \n",
    "plt.title(\"Histogram Dice 3a\") \n",
    "\n",
    "\n",
    "ax = plt.subplot(3,2,2)\n",
    "plt.hist(img_04) \n",
    "plt.title(\"Histogram Dice 3b\") \n",
    "plt.show()\n",
    "\n",
    "plt.figure(1, figsize=(20,20))\n",
    "ax = plt.subplot(4,1,1)\n",
    "plt.hist(img_05) \n",
    "plt.title(\"Histogram Dice 4\") \n",
    "plt.show()\n",
    "\n",
    "plt.figure(1, figsize=(26,30))\n",
    "ax = plt.subplot(5,1,1)\n",
    "plt.hist(img_06) \n",
    "plt.title(\"Histogram Dice 5\") \n",
    "plt.show()\n"
   ]
  },
  {
   "cell_type": "markdown",
   "id": "4ec57aa9",
   "metadata": {},
   "source": [
    "#### Decimal RGB colour code:\n",
    "* Black : (0, 0, 0)\n",
    "* White : (255, 255, 255)\n",
    "* Gray : (128, 128, 128)"
   ]
  },
  {
   "cell_type": "markdown",
   "id": "b07ec2af",
   "metadata": {},
   "source": [
    "### Creating Templates"
   ]
  },
  {
   "cell_type": "code",
   "execution_count": 11,
   "id": "af8325f0",
   "metadata": {},
   "outputs": [],
   "source": [
    "import glob"
   ]
  },
  {
   "cell_type": "code",
   "execution_count": 12,
   "id": "16bc6eb8",
   "metadata": {},
   "outputs": [],
   "source": [
    "def list_img(num):\n",
    "    num = str(num)\n",
    "    path_num = \"C:\\\\Users\\\\Nichelle Machado\\\\Becode Projects\\\\becode_dice_data\\\\train_set\\\\\"+num\n",
    "    list_num = []\n",
    "    for filename in glob.iglob(f'{path_num}/*'):\n",
    "        img = cv2.imread(filename, 0)\n",
    "        list_num.append(img)\n",
    "    return list_num\n",
    "\n",
    "\n"
   ]
  },
  {
   "cell_type": "code",
   "execution_count": 13,
   "id": "e6ac7177",
   "metadata": {},
   "outputs": [],
   "source": [
    "array_00 = np.array(list_img('00'))\n",
    "array_01 = np.array(list_img('01'))\n",
    "array_02 = np.array(list_img('02'))\n",
    "array_03 = np.array(list_img('03'))\n",
    "array_04 = np.array(list_img('04'))\n",
    "array_05 = np.array(list_img('05'))\n",
    "array_06 = np.array(list_img('06'))\n",
    "array_07 = np.array(list_img('07'))\n",
    "array_08 = np.array(list_img('08'))\n",
    "array_09 = np.array(list_img('09'))\n",
    "array_10 = np.array(list_img('10'))"
   ]
  },
  {
   "cell_type": "code",
   "execution_count": 182,
   "id": "38e8d3fd",
   "metadata": {},
   "outputs": [],
   "source": [
    "template_00 = np.mean(array_00, axis=0)"
   ]
  },
  {
   "cell_type": "code",
   "execution_count": 183,
   "id": "9d9b4e41",
   "metadata": {},
   "outputs": [
    {
     "data": {
      "text/plain": [
       "(737, 128, 128)"
      ]
     },
     "execution_count": 183,
     "metadata": {},
     "output_type": "execute_result"
    }
   ],
   "source": [
    "array_00.shape"
   ]
  },
  {
   "cell_type": "code",
   "execution_count": 16,
   "id": "663d9e83",
   "metadata": {},
   "outputs": [
    {
     "data": {
      "image/png": "[encoded data removed]",
      "text/plain": [
       "<Figure size 432x288 with 1 Axes>"
      ]
     },
     "metadata": {
      "needs_background": "light"
     },
     "output_type": "display_data"
    }
   ],
   "source": [
    "template_01 = plt.imshow(np.mean(array_01, axis=0), cmap='gray')"
   ]
  },
  {
   "cell_type": "code",
   "execution_count": 239,
   "id": "504b148e",
   "metadata": {},
   "outputs": [],
   "source": [
    "def template(num):\n",
    "    num = str(num)\n",
    "    t = np.mean(list_img(num), axis=0)\n",
    "    return t"
   ]
  },
  {
   "cell_type": "code",
   "execution_count": 240,
   "id": "0f9f3f57",
   "metadata": {},
   "outputs": [],
   "source": [
    "temp= {}\n",
    "temp['00'] = template('00')\n",
    "temp['01'] = template('01')\n",
    "temp['02']= template('02')\n",
    "temp['03'] = template('03')\n",
    "temp['04'] = template('04')\n",
    "temp['05'] = template('05')\n",
    "temp['06'] = template('06')\n",
    "temp['07'] = template('07')\n",
    "temp['08'] = template('08')\n",
    "temp['09'] = template('09')\n",
    "temp['10'] = template('10')"
   ]
  },
  {
   "cell_type": "code",
   "execution_count": 242,
   "id": "90ab5ba7",
   "metadata": {},
   "outputs": [
    {
     "data": {
      "text/plain": [
       "array([[40.92944369, 41.43962008, 41.65671642, ..., 36.78561737,\n",
       "        37.10583446, 37.34735414],\n",
       "       [41.36906377, 41.66214383, 42.12618725, ..., 37.12211669,\n",
       "        37.23609227, 37.15603799],\n",
       "       [41.87109905, 42.0624152 , 42.52374491, ..., 37.30393487,\n",
       "        37.53052917, 37.35006784],\n",
       "       ...,\n",
       "       [34.59158752, 34.81139756, 35.14789688, ..., 41.6797829 ,\n",
       "        41.31343284, 40.56173677],\n",
       "       [34.20352782, 34.39755767, 34.78561737, ..., 41.36092266,\n",
       "        40.90502035, 40.26187246],\n",
       "       [33.89959294, 34.14654003, 34.40162822, ..., 40.86024423,\n",
       "        40.54002714, 40.21709634]])"
      ]
     },
     "execution_count": 242,
     "metadata": {},
     "output_type": "execute_result"
    }
   ],
   "source": [
    "temp['00']"
   ]
  },
  {
   "cell_type": "code",
   "execution_count": 19,
   "id": "0cbb6da4",
   "metadata": {},
   "outputs": [
    {
     "data": {
      "text/plain": [
       "(128, 128)"
      ]
     },
     "execution_count": 19,
     "metadata": {},
     "output_type": "execute_result"
    }
   ],
   "source": [
    "img_00.shape"
   ]
  },
  {
   "cell_type": "code",
   "execution_count": 243,
   "id": "354334a9",
   "metadata": {},
   "outputs": [
    {
     "data": {
      "text/plain": [
       "(128, 128)"
      ]
     },
     "execution_count": 243,
     "metadata": {},
     "output_type": "execute_result"
    }
   ],
   "source": [
    "temp['00'].shape"
   ]
  },
  {
   "cell_type": "markdown",
   "id": "85475fa4",
   "metadata": {},
   "source": [
    "### Template Matching using OpenCV"
   ]
  },
  {
   "cell_type": "code",
   "execution_count": 277,
   "id": "b3621c66",
   "metadata": {},
   "outputs": [
    {
     "data": {
      "text/plain": [
       "0.65704054"
      ]
     },
     "execution_count": 277,
     "metadata": {},
     "output_type": "execute_result"
    }
   ],
   "source": [
    "import cv2\n",
    "import numpy as np\n",
    "from matplotlib import pyplot as plt\n",
    "\n",
    "img = img_ano.astype('float32')\n",
    "template = temp['00'].astype('float32')\n",
    "w, h = template.shape[::-1]\n",
    "w,h = (120,110)\n",
    "\n",
    "res = cv2.matchTemplate(img,template,cv2.TM_CCOEFF_NORMED)\n",
    "threshold = 0.8\n",
    "loc = np.where( res >= threshold)\n",
    "for pt in zip(*loc[::-1]):\n",
    "    cv2.rectangle(img, pt, (pt[0] + w, pt[1] + h), (0,0,255), 2)\n",
    "\n",
    "cv2.imwrite('res.png',img)\n",
    "res[0][0]"
   ]
  },
  {
   "cell_type": "code",
   "execution_count": 278,
   "id": "ba9871f9",
   "metadata": {},
   "outputs": [
    {
     "data": {
      "image/png": "[encoded data removed]",
      "text/plain": [
       "<Figure size 432x288 with 2 Axes>"
      ]
     },
     "metadata": {},
     "output_type": "display_data"
    }
   ],
   "source": [
    "plt.subplot(121),plt.imshow(res,cmap = 'gray')\n",
    "plt.title('Matching Result'), plt.xticks([]), plt.yticks([])\n",
    "plt.subplot(122),plt.imshow(img,cmap = 'gray')\n",
    "plt.title('Detected Point'), plt.xticks([]), plt.yticks([])\n",
    "\n",
    "plt.show()"
   ]
  },
  {
   "cell_type": "markdown",
   "id": "2d808b96",
   "metadata": {},
   "source": [
    "Source: https://opencv24-python-tutorials.readthedocs.io/en/latest/py_tutorials/py_imgproc/py_template_matching/py_template_matching.html"
   ]
  },
  {
   "cell_type": "code",
   "execution_count": 23,
   "id": "ed3e5684",
   "metadata": {},
   "outputs": [],
   "source": [
    "diff = img_00-template_00"
   ]
  },
  {
   "cell_type": "code",
   "execution_count": 24,
   "id": "c2b1d4df",
   "metadata": {},
   "outputs": [
    {
     "data": {
      "text/plain": [
       "114.34057"
      ]
     },
     "execution_count": 24,
     "metadata": {},
     "output_type": "execute_result"
    }
   ],
   "source": [
    "diff.max()"
   ]
  },
  {
   "cell_type": "code",
   "execution_count": 25,
   "id": "543f4dab",
   "metadata": {},
   "outputs": [],
   "source": [
    "def max_diff():\n",
    "    path = \"C:\\\\Users\\\\Nichelle Machado\\\\Becode Projects\\\\becode_dice_data\\\\train_set\\\\05\"\n",
    "    list_max = []\n",
    "    for filename in glob.iglob(f'{path}/*'):\n",
    "        img = cv2.imread(filename, 0)\n",
    "        diff = (img -template_00).max()\n",
    "        list_max.append(diff)\n",
    "    return list_max"
   ]
  },
  {
   "cell_type": "code",
   "execution_count": 26,
   "id": "5ab16b0a",
   "metadata": {},
   "outputs": [],
   "source": [
    "m = max_diff()"
   ]
  },
  {
   "cell_type": "code",
   "execution_count": 27,
   "id": "15604176",
   "metadata": {},
   "outputs": [],
   "source": [
    "for pixels in diff:\n",
    "    a = np.where(diff < 100)"
   ]
  },
  {
   "cell_type": "code",
   "execution_count": 28,
   "id": "185c12eb",
   "metadata": {},
   "outputs": [
    {
     "data": {
      "text/plain": [
       "(array([  0,   0,   0, ..., 127, 127, 127], dtype=int64),\n",
       " array([  0,   1,   2, ..., 125, 126, 127], dtype=int64))"
      ]
     },
     "execution_count": 28,
     "metadata": {},
     "output_type": "execute_result"
    }
   ],
   "source": [
    "a"
   ]
  },
  {
   "cell_type": "code",
   "execution_count": 29,
   "id": "763a907c",
   "metadata": {},
   "outputs": [],
   "source": [
    "def match_temp():\n",
    "    path = \"C:\\\\Users\\\\Nichelle Machado\\\\Becode Projects\\\\becode_dice_data\\\\train_set\\\\06\"\n",
    "    match_list = []\n",
    "    for filename in glob.iglob(f'{path}/*'):\n",
    "        img = cv2.imread(filename, 0)\n",
    "        diff = img-template_00\n",
    "        for d in diff:\n",
    "            if d.max() < 100:\n",
    "                result = True\n",
    "            else:\n",
    "                result = False\n",
    "            match_list.append(result)\n",
    "    return match_list"
   ]
  },
  {
   "cell_type": "code",
   "execution_count": 30,
   "id": "4f6bd8cc",
   "metadata": {},
   "outputs": [],
   "source": [
    "g = match_temp()"
   ]
  },
  {
   "cell_type": "markdown",
   "id": "46b963bf",
   "metadata": {},
   "source": [
    "### SSIM"
   ]
  },
  {
   "cell_type": "code",
   "execution_count": 31,
   "id": "d4540e89",
   "metadata": {},
   "outputs": [
    {
     "name": "stdout",
     "output_type": "stream",
     "text": [
      "SSIM: 0.8393786844962338\n"
     ]
    },
    {
     "name": "stderr",
     "output_type": "stream",
     "text": [
      "C:\\Users\\Nichelle Machado\\.conda\\envs\\ComputerVision\\lib\\site-packages\\skimage\\_shared\\utils.py:293: UserWarning: Inputs have mismatched dtype.  Setting data_range based on im1.dtype.\n",
      "  return func(*args, **kwargs)\n"
     ]
    }
   ],
   "source": [
    "# Compute the Structural Similarity Index (SSIM) between the two\n",
    "#    images, ensuring that the difference image is returned\n",
    "(score, diff) = structural_similarity(img_00, template_00, full=True)\n",
    "diff = (diff * 255).astype(\"uint8\")\n",
    "\n",
    "# 6. You can print only the score if you want\n",
    "print(\"SSIM: {}\".format(score))"
   ]
  },
  {
   "cell_type": "code",
   "execution_count": 32,
   "id": "6d7de124",
   "metadata": {},
   "outputs": [
    {
     "data": {
      "text/plain": [
       "0.8393786844962338"
      ]
     },
     "execution_count": 32,
     "metadata": {},
     "output_type": "execute_result"
    }
   ],
   "source": [
    "score"
   ]
  },
  {
   "cell_type": "code",
   "execution_count": 72,
   "id": "a788f1e7",
   "metadata": {},
   "outputs": [],
   "source": [
    "def ssim(num1, num2):\n",
    "    path = \"C:\\\\Users\\\\Nichelle Machado\\\\Becode Projects\\\\becode_dice_data\\\\train_set\\\\\"+num1\n",
    "    list_ssim = []\n",
    "    for filename in glob.iglob(f'{path}/*'):\n",
    "        img = cv2.imread(filename, 0)\n",
    "        (score, diff) = structural_similarity(img, template[num2], full=True)\n",
    "        diff = (diff * 255).astype(\"uint8\")\n",
    "        list_ssim.append(score)\n",
    "    return list_ssim"
   ]
  },
  {
   "cell_type": "code",
   "execution_count": null,
   "id": "5187fe40",
   "metadata": {},
   "outputs": [],
   "source": [
    "list1 = ['00','01','02','03','04','05','06','07','08','09','10']\n",
    "ssim_list = []\n",
    "for num1 in list1:\n",
    "    for num2 in list1:\n",
    "        ssim_n = ssim(num1, num2)\n",
    "        ssim_list.append(ssim_n)\n",
    "        \n",
    "        "
   ]
  },
  {
   "cell_type": "code",
   "execution_count": 73,
   "id": "da7da32f",
   "metadata": {},
   "outputs": [
    {
     "ename": "IndexError",
     "evalue": "only integers, slices (`:`), ellipsis (`...`), numpy.newaxis (`None`) and integer or boolean arrays are valid indices",
     "output_type": "error",
     "traceback": [
      "\u001b[1;31m---------------------------------------------------------------------------\u001b[0m",
      "\u001b[1;31mIndexError\u001b[0m                                Traceback (most recent call last)",
      "\u001b[1;32m~\\AppData\\Local\\Temp\\ipykernel_26248\\936383134.py\u001b[0m in \u001b[0;36m<module>\u001b[1;34m\u001b[0m\n\u001b[1;32m----> 1\u001b[1;33m \u001b[0mssim_00\u001b[0m \u001b[1;33m=\u001b[0m \u001b[0mssim\u001b[0m\u001b[1;33m(\u001b[0m\u001b[1;34m'00'\u001b[0m\u001b[1;33m,\u001b[0m \u001b[1;34m'00'\u001b[0m\u001b[1;33m)\u001b[0m\u001b[1;33m\u001b[0m\u001b[1;33m\u001b[0m\u001b[0m\n\u001b[0m\u001b[0;32m      2\u001b[0m \u001b[0mssim_01\u001b[0m \u001b[1;33m=\u001b[0m \u001b[0mssim\u001b[0m\u001b[1;33m(\u001b[0m\u001b[1;34m'01'\u001b[0m\u001b[1;33m,\u001b[0m\u001b[1;34m'00'\u001b[0m\u001b[1;33m)\u001b[0m\u001b[1;33m\u001b[0m\u001b[1;33m\u001b[0m\u001b[0m\n\u001b[0;32m      3\u001b[0m \u001b[0mssim_02\u001b[0m \u001b[1;33m=\u001b[0m \u001b[0mssim\u001b[0m\u001b[1;33m(\u001b[0m\u001b[1;34m'02'\u001b[0m\u001b[1;33m,\u001b[0m\u001b[1;34m'00'\u001b[0m\u001b[1;33m)\u001b[0m\u001b[1;33m\u001b[0m\u001b[1;33m\u001b[0m\u001b[0m\n\u001b[0;32m      4\u001b[0m \u001b[0mssim_03\u001b[0m \u001b[1;33m=\u001b[0m \u001b[0mssim\u001b[0m\u001b[1;33m(\u001b[0m\u001b[1;34m'03'\u001b[0m\u001b[1;33m,\u001b[0m\u001b[1;34m'00'\u001b[0m\u001b[1;33m)\u001b[0m\u001b[1;33m\u001b[0m\u001b[1;33m\u001b[0m\u001b[0m\n\u001b[0;32m      5\u001b[0m \u001b[0mssim_04\u001b[0m \u001b[1;33m=\u001b[0m \u001b[0mssim\u001b[0m\u001b[1;33m(\u001b[0m\u001b[1;34m'04'\u001b[0m\u001b[1;33m,\u001b[0m\u001b[1;34m'00'\u001b[0m\u001b[1;33m)\u001b[0m\u001b[1;33m\u001b[0m\u001b[1;33m\u001b[0m\u001b[0m\n",
      "\u001b[1;32m~\\AppData\\Local\\Temp\\ipykernel_26248\\1814104577.py\u001b[0m in \u001b[0;36mssim\u001b[1;34m(num1, num2)\u001b[0m\n\u001b[0;32m      4\u001b[0m     \u001b[1;32mfor\u001b[0m \u001b[0mfilename\u001b[0m \u001b[1;32min\u001b[0m \u001b[0mglob\u001b[0m\u001b[1;33m.\u001b[0m\u001b[0miglob\u001b[0m\u001b[1;33m(\u001b[0m\u001b[1;34mf'{path}/*'\u001b[0m\u001b[1;33m)\u001b[0m\u001b[1;33m:\u001b[0m\u001b[1;33m\u001b[0m\u001b[1;33m\u001b[0m\u001b[0m\n\u001b[0;32m      5\u001b[0m         \u001b[0mimg\u001b[0m \u001b[1;33m=\u001b[0m \u001b[0mcv2\u001b[0m\u001b[1;33m.\u001b[0m\u001b[0mimread\u001b[0m\u001b[1;33m(\u001b[0m\u001b[0mfilename\u001b[0m\u001b[1;33m,\u001b[0m \u001b[1;36m0\u001b[0m\u001b[1;33m)\u001b[0m\u001b[1;33m\u001b[0m\u001b[1;33m\u001b[0m\u001b[0m\n\u001b[1;32m----> 6\u001b[1;33m         \u001b[1;33m(\u001b[0m\u001b[0mscore\u001b[0m\u001b[1;33m,\u001b[0m \u001b[0mdiff\u001b[0m\u001b[1;33m)\u001b[0m \u001b[1;33m=\u001b[0m \u001b[0mstructural_similarity\u001b[0m\u001b[1;33m(\u001b[0m\u001b[0mimg\u001b[0m\u001b[1;33m,\u001b[0m \u001b[0mtemplate\u001b[0m\u001b[1;33m[\u001b[0m\u001b[0mnum2\u001b[0m\u001b[1;33m]\u001b[0m\u001b[1;33m,\u001b[0m \u001b[0mfull\u001b[0m\u001b[1;33m=\u001b[0m\u001b[1;32mTrue\u001b[0m\u001b[1;33m)\u001b[0m\u001b[1;33m\u001b[0m\u001b[1;33m\u001b[0m\u001b[0m\n\u001b[0m\u001b[0;32m      7\u001b[0m         \u001b[0mdiff\u001b[0m \u001b[1;33m=\u001b[0m \u001b[1;33m(\u001b[0m\u001b[0mdiff\u001b[0m \u001b[1;33m*\u001b[0m \u001b[1;36m255\u001b[0m\u001b[1;33m)\u001b[0m\u001b[1;33m.\u001b[0m\u001b[0mastype\u001b[0m\u001b[1;33m(\u001b[0m\u001b[1;34m\"uint8\"\u001b[0m\u001b[1;33m)\u001b[0m\u001b[1;33m\u001b[0m\u001b[1;33m\u001b[0m\u001b[0m\n\u001b[0;32m      8\u001b[0m         \u001b[0mlist_ssim\u001b[0m\u001b[1;33m.\u001b[0m\u001b[0mappend\u001b[0m\u001b[1;33m(\u001b[0m\u001b[0mscore\u001b[0m\u001b[1;33m)\u001b[0m\u001b[1;33m\u001b[0m\u001b[1;33m\u001b[0m\u001b[0m\n",
      "\u001b[1;31mIndexError\u001b[0m: only integers, slices (`:`), ellipsis (`...`), numpy.newaxis (`None`) and integer or boolean arrays are valid indices"
     ]
    }
   ],
   "source": [
    "ssim_00 = ssim('00', '00')\n",
    "ssim_01 = ssim('01','00')\n",
    "ssim_02 = ssim('02','00')\n",
    "ssim_03 = ssim('03','00')\n",
    "ssim_04 = ssim('04','00')\n",
    "ssim_05 = ssim('05','00')\n",
    "ssim_06 = ssim('06','00')\n",
    "ssim_07 = ssim('07','00')\n",
    "ssim_08 = ssim('08','00')\n",
    "ssim_09 = ssim('09','00')\n",
    "ssim_10 = ssim('10','00')\n",
    "ssim_ano = ssim('ano','00')\n"
   ]
  },
  {
   "cell_type": "code",
   "execution_count": 35,
   "id": "551b9350",
   "metadata": {},
   "outputs": [],
   "source": [
    "# Threshold = 0.84"
   ]
  },
  {
   "cell_type": "code",
   "execution_count": 36,
   "id": "f30fa5b1",
   "metadata": {},
   "outputs": [],
   "source": [
    "import pandas as pd"
   ]
  },
  {
   "cell_type": "code",
   "execution_count": 37,
   "id": "47e16ae2",
   "metadata": {},
   "outputs": [],
   "source": [
    "df_00 = pd.DataFrame(list(zip(ssim_00, ssim_01,ssim_02, ssim_03, ssim_04, ssim_05, ssim_06,ssim_07,ssim_08, ssim_09,ssim_10)), columns=['00','01','02','03','04','05','06','07','08','09','10'])"
   ]
  },
  {
   "cell_type": "code",
   "execution_count": 38,
   "id": "941f7ac9",
   "metadata": {
    "scrolled": true
   },
   "outputs": [
    {
     "data": {
      "text/plain": [
       "00      0\n",
       "01    317\n",
       "02      0\n",
       "03      2\n",
       "04      0\n",
       "05      0\n",
       "06      0\n",
       "07      0\n",
       "08      0\n",
       "09      0\n",
       "10      0\n",
       "dtype: int64"
      ]
     },
     "execution_count": 38,
     "metadata": {},
     "output_type": "execute_result"
    }
   ],
   "source": [
    "df_00[df_00>0.84].count()"
   ]
  },
  {
   "cell_type": "markdown",
   "id": "467a5ad5",
   "metadata": {},
   "source": [
    "### Folder 00\n",
    "True positives = 311\n",
    "False negatives = 87"
   ]
  },
  {
   "cell_type": "code",
   "execution_count": 39,
   "id": "36898467",
   "metadata": {},
   "outputs": [],
   "source": [
    "df_00\n",
    "df_00.to_csv('df_00.csv', sep=';')"
   ]
  },
  {
   "cell_type": "code",
   "execution_count": 40,
   "id": "5ef8d242",
   "metadata": {},
   "outputs": [],
   "source": [
    "df_01 = pd.DataFrame(list(zip(ssim_00, ssim_01,ssim_02, ssim_03, ssim_04, ssim_05, ssim_06,ssim_07,ssim_08, ssim_09,ssim_10)), columns=['1','2a','2b','3a','3b','4','5','6a','6b','6c','6d'])"
   ]
  },
  {
   "cell_type": "code",
   "execution_count": 41,
   "id": "e06e0011",
   "metadata": {},
   "outputs": [],
   "source": [
    "df_01.to_csv('df_01.csv', sep=';')"
   ]
  },
  {
   "cell_type": "code",
   "execution_count": 42,
   "id": "0ed9c501",
   "metadata": {},
   "outputs": [
    {
     "data": {
      "text/plain": [
       "1       0\n",
       "2a    317\n",
       "2b      0\n",
       "3a      2\n",
       "3b      0\n",
       "4       0\n",
       "5       0\n",
       "6a      0\n",
       "6b      0\n",
       "6c      0\n",
       "6d      0\n",
       "dtype: int64"
      ]
     },
     "execution_count": 42,
     "metadata": {},
     "output_type": "execute_result"
    }
   ],
   "source": [
    "df_01[df_01>0.84].count()"
   ]
  },
  {
   "cell_type": "markdown",
   "id": "96e4102e",
   "metadata": {},
   "source": [
    "### Folder 01\n",
    "True positives = 317\n",
    "False negatives = 81"
   ]
  },
  {
   "cell_type": "code",
   "execution_count": 43,
   "id": "6318fd2f",
   "metadata": {},
   "outputs": [],
   "source": [
    "df_02 = pd.DataFrame(list(zip(ssim_00, ssim_01,ssim_02, ssim_03, ssim_04, ssim_05, ssim_06,ssim_07,ssim_08, ssim_09,ssim_10)), columns=['1','2a','2b','3a','3b','4','5','6a','6b','6c','6d'])"
   ]
  },
  {
   "cell_type": "code",
   "execution_count": 44,
   "id": "7a5bcc06",
   "metadata": {},
   "outputs": [
    {
     "data": {
      "text/plain": [
       "1       0\n",
       "2a    317\n",
       "2b      0\n",
       "3a      2\n",
       "3b      0\n",
       "4       0\n",
       "5       0\n",
       "6a      0\n",
       "6b      0\n",
       "6c      0\n",
       "6d      0\n",
       "dtype: int64"
      ]
     },
     "execution_count": 44,
     "metadata": {},
     "output_type": "execute_result"
    }
   ],
   "source": [
    "df_02[df_02.iloc[:, 1:11]>0.84].count()"
   ]
  },
  {
   "cell_type": "code",
   "execution_count": 45,
   "id": "34d0b752",
   "metadata": {},
   "outputs": [],
   "source": [
    "df_02.to_csv('df_02.csv', sep=';')"
   ]
  },
  {
   "cell_type": "code",
   "execution_count": 46,
   "id": "19f2743f",
   "metadata": {
    "scrolled": true
   },
   "outputs": [
    {
     "data": {
      "text/plain": [
       "1       0\n",
       "2a    317\n",
       "2b      0\n",
       "3a      2\n",
       "3b      0\n",
       "4       0\n",
       "5       0\n",
       "6a      0\n",
       "6b      0\n",
       "6c      0\n",
       "6d      0\n",
       "dtype: int64"
      ]
     },
     "execution_count": 46,
     "metadata": {},
     "output_type": "execute_result"
    }
   ],
   "source": [
    "df_02[df_02>0.84].count()"
   ]
  },
  {
   "cell_type": "markdown",
   "id": "cadbf771",
   "metadata": {},
   "source": [
    "### Folder 02\n",
    "True positives = 381\n",
    "False negatives = 17"
   ]
  },
  {
   "cell_type": "code",
   "execution_count": 47,
   "id": "c4cc6d7e",
   "metadata": {},
   "outputs": [],
   "source": [
    "df_03 = pd.DataFrame(list(zip(ssim_00, ssim_01,ssim_02, ssim_03, ssim_04, ssim_05, ssim_06,ssim_07,ssim_08, ssim_09,ssim_10)), columns=['1','2a','2b','3a','3b','4','5','6a','6b','6c','6d'])"
   ]
  },
  {
   "cell_type": "code",
   "execution_count": 48,
   "id": "b3c5ba2b",
   "metadata": {},
   "outputs": [
    {
     "data": {
      "text/html": [
       "<div>\n",
       "<style scoped>\n",
       "    .dataframe tbody tr th:only-of-type {\n",
       "        vertical-align: middle;\n",
       "    }\n",
       "\n",
       "    .dataframe tbody tr th {\n",
       "        vertical-align: top;\n",
       "    }\n",
       "\n",
       "    .dataframe thead th {\n",
       "        text-align: right;\n",
       "    }\n",
       "</style>\n",
       "<table border=\"1\" class=\"dataframe\">\n",
       "  <thead>\n",
       "    <tr style=\"text-align: right;\">\n",
       "      <th></th>\n",
       "      <th>1</th>\n",
       "      <th>2a</th>\n",
       "      <th>2b</th>\n",
       "      <th>3a</th>\n",
       "      <th>3b</th>\n",
       "      <th>4</th>\n",
       "      <th>5</th>\n",
       "      <th>6a</th>\n",
       "      <th>6b</th>\n",
       "      <th>6c</th>\n",
       "      <th>6d</th>\n",
       "    </tr>\n",
       "  </thead>\n",
       "  <tbody>\n",
       "    <tr>\n",
       "      <th>count</th>\n",
       "      <td>398.000000</td>\n",
       "      <td>398.000000</td>\n",
       "      <td>398.000000</td>\n",
       "      <td>398.000000</td>\n",
       "      <td>398.000000</td>\n",
       "      <td>398.000000</td>\n",
       "      <td>398.000000</td>\n",
       "      <td>398.000000</td>\n",
       "      <td>398.000000</td>\n",
       "      <td>398.000000</td>\n",
       "      <td>398.000000</td>\n",
       "    </tr>\n",
       "    <tr>\n",
       "      <th>mean</th>\n",
       "      <td>0.671278</td>\n",
       "      <td>0.868487</td>\n",
       "      <td>0.641171</td>\n",
       "      <td>0.784453</td>\n",
       "      <td>0.557160</td>\n",
       "      <td>0.715568</td>\n",
       "      <td>0.646925</td>\n",
       "      <td>0.502001</td>\n",
       "      <td>0.497424</td>\n",
       "      <td>0.499599</td>\n",
       "      <td>0.496077</td>\n",
       "    </tr>\n",
       "    <tr>\n",
       "      <th>std</th>\n",
       "      <td>0.026194</td>\n",
       "      <td>0.038637</td>\n",
       "      <td>0.017736</td>\n",
       "      <td>0.031141</td>\n",
       "      <td>0.026469</td>\n",
       "      <td>0.029936</td>\n",
       "      <td>0.026348</td>\n",
       "      <td>0.022401</td>\n",
       "      <td>0.021458</td>\n",
       "      <td>0.021066</td>\n",
       "      <td>0.018728</td>\n",
       "    </tr>\n",
       "    <tr>\n",
       "      <th>min</th>\n",
       "      <td>0.586772</td>\n",
       "      <td>0.721289</td>\n",
       "      <td>0.594557</td>\n",
       "      <td>0.709092</td>\n",
       "      <td>0.483310</td>\n",
       "      <td>0.612755</td>\n",
       "      <td>0.569903</td>\n",
       "      <td>0.421510</td>\n",
       "      <td>0.432216</td>\n",
       "      <td>0.427581</td>\n",
       "      <td>0.443112</td>\n",
       "    </tr>\n",
       "    <tr>\n",
       "      <th>25%</th>\n",
       "      <td>0.657447</td>\n",
       "      <td>0.846263</td>\n",
       "      <td>0.627743</td>\n",
       "      <td>0.762259</td>\n",
       "      <td>0.538714</td>\n",
       "      <td>0.696593</td>\n",
       "      <td>0.625090</td>\n",
       "      <td>0.491083</td>\n",
       "      <td>0.489050</td>\n",
       "      <td>0.487304</td>\n",
       "      <td>0.485225</td>\n",
       "    </tr>\n",
       "    <tr>\n",
       "      <th>50%</th>\n",
       "      <td>0.675985</td>\n",
       "      <td>0.880006</td>\n",
       "      <td>0.644579</td>\n",
       "      <td>0.787298</td>\n",
       "      <td>0.564674</td>\n",
       "      <td>0.717269</td>\n",
       "      <td>0.654782</td>\n",
       "      <td>0.505796</td>\n",
       "      <td>0.502413</td>\n",
       "      <td>0.505493</td>\n",
       "      <td>0.499618</td>\n",
       "    </tr>\n",
       "    <tr>\n",
       "      <th>75%</th>\n",
       "      <td>0.689142</td>\n",
       "      <td>0.897265</td>\n",
       "      <td>0.655705</td>\n",
       "      <td>0.808135</td>\n",
       "      <td>0.578724</td>\n",
       "      <td>0.740891</td>\n",
       "      <td>0.667578</td>\n",
       "      <td>0.517115</td>\n",
       "      <td>0.512183</td>\n",
       "      <td>0.515416</td>\n",
       "      <td>0.509465</td>\n",
       "    </tr>\n",
       "    <tr>\n",
       "      <th>max</th>\n",
       "      <td>0.717184</td>\n",
       "      <td>0.925027</td>\n",
       "      <td>0.672641</td>\n",
       "      <td>0.843208</td>\n",
       "      <td>0.595586</td>\n",
       "      <td>0.765068</td>\n",
       "      <td>0.689205</td>\n",
       "      <td>0.558736</td>\n",
       "      <td>0.539901</td>\n",
       "      <td>0.546071</td>\n",
       "      <td>0.532905</td>\n",
       "    </tr>\n",
       "  </tbody>\n",
       "</table>\n",
       "</div>"
      ],
      "text/plain": [
       "                1          2a          2b          3a          3b           4  \\\n",
       "count  398.000000  398.000000  398.000000  398.000000  398.000000  398.000000   \n",
       "mean     0.671278    0.868487    0.641171    0.784453    0.557160    0.715568   \n",
       "std      0.026194    0.038637    0.017736    0.031141    0.026469    0.029936   \n",
       "min      0.586772    0.721289    0.594557    0.709092    0.483310    0.612755   \n",
       "25%      0.657447    0.846263    0.627743    0.762259    0.538714    0.696593   \n",
       "50%      0.675985    0.880006    0.644579    0.787298    0.564674    0.717269   \n",
       "75%      0.689142    0.897265    0.655705    0.808135    0.578724    0.740891   \n",
       "max      0.717184    0.925027    0.672641    0.843208    0.595586    0.765068   \n",
       "\n",
       "                5          6a          6b          6c          6d  \n",
       "count  398.000000  398.000000  398.000000  398.000000  398.000000  \n",
       "mean     0.646925    0.502001    0.497424    0.499599    0.496077  \n",
       "std      0.026348    0.022401    0.021458    0.021066    0.018728  \n",
       "min      0.569903    0.421510    0.432216    0.427581    0.443112  \n",
       "25%      0.625090    0.491083    0.489050    0.487304    0.485225  \n",
       "50%      0.654782    0.505796    0.502413    0.505493    0.499618  \n",
       "75%      0.667578    0.517115    0.512183    0.515416    0.509465  \n",
       "max      0.689205    0.558736    0.539901    0.546071    0.532905  "
      ]
     },
     "execution_count": 48,
     "metadata": {},
     "output_type": "execute_result"
    }
   ],
   "source": [
    "df_03.describe()"
   ]
  },
  {
   "cell_type": "code",
   "execution_count": 49,
   "id": "d1b366ff",
   "metadata": {},
   "outputs": [
    {
     "data": {
      "text/plain": [
       "1       0\n",
       "2a    317\n",
       "2b      0\n",
       "3a      2\n",
       "3b      0\n",
       "4       0\n",
       "5       0\n",
       "6a      0\n",
       "6b      0\n",
       "6c      0\n",
       "6d      0\n",
       "dtype: int64"
      ]
     },
     "execution_count": 49,
     "metadata": {},
     "output_type": "execute_result"
    }
   ],
   "source": [
    "df_03[df_03>0.84].count()"
   ]
  },
  {
   "cell_type": "markdown",
   "id": "c7577e55",
   "metadata": {},
   "source": [
    "### Folder 03\n",
    "True positives = 260\n",
    "False negatives = 138"
   ]
  },
  {
   "cell_type": "code",
   "execution_count": 50,
   "id": "a1a5ca25",
   "metadata": {},
   "outputs": [],
   "source": [
    "df_03.to_csv('df_03.csv', sep=';')"
   ]
  },
  {
   "cell_type": "code",
   "execution_count": 51,
   "id": "d4279195",
   "metadata": {},
   "outputs": [],
   "source": [
    "df_04 = pd.DataFrame(list(zip(ssim_00, ssim_01,ssim_02, ssim_03, ssim_04, ssim_05, ssim_06,ssim_07,ssim_08, ssim_09,ssim_10)), columns=['1','2a','2b','3a','3b','4','5','6a','6b','6c','6d'])"
   ]
  },
  {
   "cell_type": "code",
   "execution_count": 52,
   "id": "c927df7f",
   "metadata": {
    "scrolled": true
   },
   "outputs": [
    {
     "data": {
      "text/plain": [
       "1       0\n",
       "2a    317\n",
       "2b      0\n",
       "3a      2\n",
       "3b      0\n",
       "4       0\n",
       "5       0\n",
       "6a      0\n",
       "6b      0\n",
       "6c      0\n",
       "6d      0\n",
       "dtype: int64"
      ]
     },
     "execution_count": 52,
     "metadata": {},
     "output_type": "execute_result"
    }
   ],
   "source": [
    "df_04[df_04>0.84].count()"
   ]
  },
  {
   "cell_type": "markdown",
   "id": "9e0f4fdb",
   "metadata": {},
   "source": [
    "### Folder 04\n",
    "True positives = 241\n",
    "False negatives = 156\n",
    "False positive = 1"
   ]
  },
  {
   "cell_type": "code",
   "execution_count": 53,
   "id": "34222d95",
   "metadata": {},
   "outputs": [],
   "source": [
    "df_04.to_csv('df_04.csv', sep=';')"
   ]
  },
  {
   "cell_type": "code",
   "execution_count": 54,
   "id": "7bd4bb51",
   "metadata": {},
   "outputs": [],
   "source": [
    "df_05 = pd.DataFrame(list(zip(ssim_00, ssim_01,ssim_02, ssim_03, ssim_04, ssim_05, ssim_06,ssim_07,ssim_08, ssim_09,ssim_10)), columns=['1','2a','2b','3a','3b','4','5','6a','6b','6c','6d'])"
   ]
  },
  {
   "cell_type": "code",
   "execution_count": 55,
   "id": "d2a88b75",
   "metadata": {},
   "outputs": [
    {
     "data": {
      "text/plain": [
       "1       0\n",
       "2a    317\n",
       "2b      0\n",
       "3a      2\n",
       "3b      0\n",
       "4       0\n",
       "5       0\n",
       "6a      0\n",
       "6b      0\n",
       "6c      0\n",
       "6d      0\n",
       "dtype: int64"
      ]
     },
     "execution_count": 55,
     "metadata": {},
     "output_type": "execute_result"
    }
   ],
   "source": [
    "df_05[df_05>0.84].count()"
   ]
  },
  {
   "cell_type": "markdown",
   "id": "bfa31fba",
   "metadata": {},
   "source": [
    "### Folder 05\n",
    "True positives = 133\n",
    "False negatives = 265"
   ]
  },
  {
   "cell_type": "code",
   "execution_count": 56,
   "id": "609ff35a",
   "metadata": {},
   "outputs": [],
   "source": [
    "df_05.to_csv('df_05.csv', sep=';')"
   ]
  },
  {
   "cell_type": "code",
   "execution_count": 57,
   "id": "8dab4bb9",
   "metadata": {},
   "outputs": [],
   "source": [
    "df_06 = pd.DataFrame(list(zip(ssim_00, ssim_01,ssim_02, ssim_03, ssim_04, ssim_05, ssim_06,ssim_07,ssim_08, ssim_09,ssim_10)), columns=['1','2a','2b','3a','3b','4','5','6a','6b','6c','6d'])"
   ]
  },
  {
   "cell_type": "code",
   "execution_count": 58,
   "id": "4b1d4cf6",
   "metadata": {},
   "outputs": [
    {
     "data": {
      "text/plain": [
       "1       0\n",
       "2a    317\n",
       "2b      0\n",
       "3a      2\n",
       "3b      0\n",
       "4       0\n",
       "5       0\n",
       "6a      0\n",
       "6b      0\n",
       "6c      0\n",
       "6d      0\n",
       "dtype: int64"
      ]
     },
     "execution_count": 58,
     "metadata": {},
     "output_type": "execute_result"
    }
   ],
   "source": [
    "df_06[df_06>0.84].count()"
   ]
  },
  {
   "cell_type": "markdown",
   "id": "2ba7bdd8",
   "metadata": {},
   "source": [
    "### Folder 6\n",
    "True positives = 90\n",
    "False negatives = 308"
   ]
  },
  {
   "cell_type": "code",
   "execution_count": null,
   "id": "009002b6",
   "metadata": {},
   "outputs": [],
   "source": []
  },
  {
   "cell_type": "code",
   "execution_count": null,
   "id": "40080e49",
   "metadata": {},
   "outputs": [],
   "source": [
    "df_06.to_csv('df_06.csv', sep=';')"
   ]
  },
  {
   "cell_type": "code",
   "execution_count": null,
   "id": "51fd37d9",
   "metadata": {},
   "outputs": [],
   "source": [
    "df_07 = pd.DataFrame(list(zip(ssim_00, ssim_01,ssim_02, ssim_03, ssim_04, ssim_05, ssim_06,ssim_07,ssim_08, ssim_09,ssim_10)), columns=['1','2a','2b','3a','3b','4','5','6a','6b','6c','6d'])"
   ]
  },
  {
   "cell_type": "code",
   "execution_count": null,
   "id": "895426fa",
   "metadata": {},
   "outputs": [],
   "source": [
    "df_07[df_07>0.84].count()"
   ]
  },
  {
   "cell_type": "markdown",
   "id": "f55105fd",
   "metadata": {},
   "source": [
    "### Folder 7\n",
    "True positives = 229\n",
    "False negatives = 169"
   ]
  },
  {
   "cell_type": "code",
   "execution_count": null,
   "id": "5d679db2",
   "metadata": {},
   "outputs": [],
   "source": [
    "df_07.to_csv('df_07.csv', sep=';')"
   ]
  },
  {
   "cell_type": "code",
   "execution_count": null,
   "id": "7faaafd3",
   "metadata": {},
   "outputs": [],
   "source": [
    "df_08 = pd.DataFrame(list(zip(ssim_00, ssim_01,ssim_02, ssim_03, ssim_04, ssim_05, ssim_06,ssim_07,ssim_08, ssim_09,ssim_10)), columns=['1','2a','2b','3a','3b','4','5','6a','6b','6c','6d'])"
   ]
  },
  {
   "cell_type": "code",
   "execution_count": null,
   "id": "3304aeb4",
   "metadata": {},
   "outputs": [],
   "source": [
    "df_08[df_08>0.84].count()"
   ]
  },
  {
   "cell_type": "markdown",
   "id": "d101a979",
   "metadata": {},
   "source": [
    "### Folder 8\n",
    "True positives = 220\n",
    "False negatives = 178"
   ]
  },
  {
   "cell_type": "code",
   "execution_count": null,
   "id": "7e453099",
   "metadata": {},
   "outputs": [],
   "source": [
    "df_08.to_csv('df_08.csv', sep=';')"
   ]
  },
  {
   "cell_type": "code",
   "execution_count": null,
   "id": "c4aae0db",
   "metadata": {},
   "outputs": [],
   "source": [
    "df_09 = pd.DataFrame(list(zip(ssim_00, ssim_01,ssim_02, ssim_03, ssim_04, ssim_05, ssim_06,ssim_07,ssim_08, ssim_09,ssim_10)), columns=['1','2a','2b','3a','3b','4','5','6a','6b','6c','6d'])"
   ]
  },
  {
   "cell_type": "code",
   "execution_count": null,
   "id": "4259330e",
   "metadata": {},
   "outputs": [],
   "source": [
    "df_09[df_09>0.70].count()"
   ]
  },
  {
   "cell_type": "markdown",
   "id": "e67759c4",
   "metadata": {},
   "source": [
    "### Folder 9\n",
    "True positves = 395\n",
    "False negatives = 3"
   ]
  },
  {
   "cell_type": "code",
   "execution_count": null,
   "id": "5e9fe5ed",
   "metadata": {},
   "outputs": [],
   "source": [
    "df_09.to_csv('df_09.csv', sep=';')"
   ]
  },
  {
   "cell_type": "code",
   "execution_count": null,
   "id": "b9fe6d3c",
   "metadata": {},
   "outputs": [],
   "source": [
    "df_10 = pd.DataFrame(list(zip(ssim_00, ssim_01,ssim_02, ssim_03, ssim_04, ssim_05, ssim_06,ssim_07,ssim_08, ssim_09,ssim_10)), columns=['1','2a','2b','3a','3b','4','5','6a','6b','6c','6d'])"
   ]
  },
  {
   "cell_type": "code",
   "execution_count": null,
   "id": "243a1925",
   "metadata": {},
   "outputs": [],
   "source": [
    "df_10[df_10>0.84].count()"
   ]
  },
  {
   "cell_type": "markdown",
   "id": "06cfc841",
   "metadata": {},
   "source": [
    "### Folder 10\n",
    "True positives = 216\n",
    "False negatives = 182"
   ]
  },
  {
   "cell_type": "code",
   "execution_count": null,
   "id": "0e048f50",
   "metadata": {},
   "outputs": [],
   "source": [
    "df_10.to_csv('df_10.csv', sep=';')"
   ]
  },
  {
   "cell_type": "code",
   "execution_count": null,
   "id": "c3f88ac8",
   "metadata": {},
   "outputs": [],
   "source": [
    "df_01"
   ]
  },
  {
   "cell_type": "code",
   "execution_count": null,
   "id": "69bc5d58",
   "metadata": {},
   "outputs": [],
   "source": [
    "# Checking the min and max ssim score for the images in each of the folders\n",
    "df_10.describe()"
   ]
  },
  {
   "cell_type": "code",
   "execution_count": 66,
   "id": "1fa94de8",
   "metadata": {},
   "outputs": [],
   "source": [
    "# Comparing Anomaly folder with templates of all the dice faces\n",
    "\n",
    "def ssim_ano(num): # setting template number as the input argument\n",
    "    path = \"C:\\\\Users\\\\Nichelle Machado\\\\Becode Projects\\\\becode_dice_data\\\\train_set\\\\ano\" #path of the anomalous folder(source image)\n",
    "    list_ssim = []\n",
    "    for filename in glob.iglob(f'{path}/*'):\n",
    "        img = cv2.imread(filename, 0)\n",
    "        (score, diff) = structural_similarity(img, template(num), full=True) #matching source image and template\n",
    "        diff = (diff * 255).astype(\"uint8\")\n",
    "        list_ssim.append(score)\n",
    "    return list_ssim"
   ]
  },
  {
   "cell_type": "code",
   "execution_count": 67,
   "id": "2e3dd655",
   "metadata": {
    "scrolled": false
   },
   "outputs": [
    {
     "ename": "TypeError",
     "evalue": "'numpy.ndarray' object is not callable",
     "output_type": "error",
     "traceback": [
      "\u001b[1;31m---------------------------------------------------------------------------\u001b[0m",
      "\u001b[1;31mTypeError\u001b[0m                                 Traceback (most recent call last)",
      "\u001b[1;32m~\\AppData\\Local\\Temp\\ipykernel_26248\\961186338.py\u001b[0m in \u001b[0;36m<module>\u001b[1;34m\u001b[0m\n\u001b[1;32m----> 1\u001b[1;33m \u001b[0mssim_ano00\u001b[0m \u001b[1;33m=\u001b[0m \u001b[0mssim_ano\u001b[0m\u001b[1;33m(\u001b[0m\u001b[1;34m'00'\u001b[0m\u001b[1;33m)\u001b[0m\u001b[1;33m\u001b[0m\u001b[1;33m\u001b[0m\u001b[0m\n\u001b[0m\u001b[0;32m      2\u001b[0m \u001b[0mssim_ano01\u001b[0m \u001b[1;33m=\u001b[0m \u001b[0mssim_ano\u001b[0m\u001b[1;33m(\u001b[0m\u001b[1;34m'01'\u001b[0m\u001b[1;33m)\u001b[0m\u001b[1;33m\u001b[0m\u001b[1;33m\u001b[0m\u001b[0m\n\u001b[0;32m      3\u001b[0m \u001b[0mssim_ano02\u001b[0m \u001b[1;33m=\u001b[0m \u001b[0mssim_ano\u001b[0m\u001b[1;33m(\u001b[0m\u001b[1;34m'02'\u001b[0m\u001b[1;33m)\u001b[0m\u001b[1;33m\u001b[0m\u001b[1;33m\u001b[0m\u001b[0m\n\u001b[0;32m      4\u001b[0m \u001b[0mssim_ano03\u001b[0m \u001b[1;33m=\u001b[0m \u001b[0mssim_ano\u001b[0m\u001b[1;33m(\u001b[0m\u001b[1;34m'03'\u001b[0m\u001b[1;33m)\u001b[0m\u001b[1;33m\u001b[0m\u001b[1;33m\u001b[0m\u001b[0m\n\u001b[0;32m      5\u001b[0m \u001b[0mssim_ano04\u001b[0m \u001b[1;33m=\u001b[0m \u001b[0mssim_ano\u001b[0m\u001b[1;33m(\u001b[0m\u001b[1;34m'04'\u001b[0m\u001b[1;33m)\u001b[0m\u001b[1;33m\u001b[0m\u001b[1;33m\u001b[0m\u001b[0m\n",
      "\u001b[1;32m~\\AppData\\Local\\Temp\\ipykernel_26248\\3157464848.py\u001b[0m in \u001b[0;36mssim_ano\u001b[1;34m(num)\u001b[0m\n\u001b[0;32m      6\u001b[0m     \u001b[1;32mfor\u001b[0m \u001b[0mfilename\u001b[0m \u001b[1;32min\u001b[0m \u001b[0mglob\u001b[0m\u001b[1;33m.\u001b[0m\u001b[0miglob\u001b[0m\u001b[1;33m(\u001b[0m\u001b[1;34mf'{path}/*'\u001b[0m\u001b[1;33m)\u001b[0m\u001b[1;33m:\u001b[0m\u001b[1;33m\u001b[0m\u001b[1;33m\u001b[0m\u001b[0m\n\u001b[0;32m      7\u001b[0m         \u001b[0mimg\u001b[0m \u001b[1;33m=\u001b[0m \u001b[0mcv2\u001b[0m\u001b[1;33m.\u001b[0m\u001b[0mimread\u001b[0m\u001b[1;33m(\u001b[0m\u001b[0mfilename\u001b[0m\u001b[1;33m,\u001b[0m \u001b[1;36m0\u001b[0m\u001b[1;33m)\u001b[0m\u001b[1;33m\u001b[0m\u001b[1;33m\u001b[0m\u001b[0m\n\u001b[1;32m----> 8\u001b[1;33m         \u001b[1;33m(\u001b[0m\u001b[0mscore\u001b[0m\u001b[1;33m,\u001b[0m \u001b[0mdiff\u001b[0m\u001b[1;33m)\u001b[0m \u001b[1;33m=\u001b[0m \u001b[0mstructural_similarity\u001b[0m\u001b[1;33m(\u001b[0m\u001b[0mimg\u001b[0m\u001b[1;33m,\u001b[0m \u001b[0mtemplate\u001b[0m\u001b[1;33m(\u001b[0m\u001b[0mnum\u001b[0m\u001b[1;33m)\u001b[0m\u001b[1;33m,\u001b[0m \u001b[0mfull\u001b[0m\u001b[1;33m=\u001b[0m\u001b[1;32mTrue\u001b[0m\u001b[1;33m)\u001b[0m \u001b[1;31m#matching source image and template\u001b[0m\u001b[1;33m\u001b[0m\u001b[1;33m\u001b[0m\u001b[0m\n\u001b[0m\u001b[0;32m      9\u001b[0m         \u001b[0mdiff\u001b[0m \u001b[1;33m=\u001b[0m \u001b[1;33m(\u001b[0m\u001b[0mdiff\u001b[0m \u001b[1;33m*\u001b[0m \u001b[1;36m255\u001b[0m\u001b[1;33m)\u001b[0m\u001b[1;33m.\u001b[0m\u001b[0mastype\u001b[0m\u001b[1;33m(\u001b[0m\u001b[1;34m\"uint8\"\u001b[0m\u001b[1;33m)\u001b[0m\u001b[1;33m\u001b[0m\u001b[1;33m\u001b[0m\u001b[0m\n\u001b[0;32m     10\u001b[0m         \u001b[0mlist_ssim\u001b[0m\u001b[1;33m.\u001b[0m\u001b[0mappend\u001b[0m\u001b[1;33m(\u001b[0m\u001b[0mscore\u001b[0m\u001b[1;33m)\u001b[0m\u001b[1;33m\u001b[0m\u001b[1;33m\u001b[0m\u001b[0m\n",
      "\u001b[1;31mTypeError\u001b[0m: 'numpy.ndarray' object is not callable"
     ]
    }
   ],
   "source": [
    "ssim_ano00 = ssim_ano('00')\n",
    "ssim_ano01 = ssim_ano('01')\n",
    "ssim_ano02 = ssim_ano('02')\n",
    "ssim_ano03 = ssim_ano('03')\n",
    "ssim_ano04 = ssim_ano('04')\n",
    "ssim_ano05 = ssim_ano('05')\n",
    "ssim_ano06 = ssim_ano('06')\n",
    "ssim_ano07 = ssim_ano('07')\n",
    "ssim_ano08 = ssim_ano('08')\n",
    "ssim_ano09 = ssim_ano('09')\n",
    "ssim_ano10 = ssim_ano('10')"
   ]
  },
  {
   "cell_type": "code",
   "execution_count": null,
   "id": "e512f8d4",
   "metadata": {},
   "outputs": [],
   "source": [
    "df_ano = pd.DataFrame(list(zip(ssim_ano00, ssim_ano01,ssim_ano02, ssim_ano03, ssim_ano04, ssim_ano05, ssim_ano06,ssim_ano07,ssim_ano08, ssim_ano09,ssim_ano10)), columns=['1','2a','2b','3a','3b','4','5','6a','6b','6c','6d'])\n",
    "df_ano"
   ]
  },
  {
   "cell_type": "code",
   "execution_count": null,
   "id": "d44f71f4",
   "metadata": {},
   "outputs": [],
   "source": [
    "df_ano.to_csv('df_ano',sep=';')"
   ]
  },
  {
   "cell_type": "code",
   "execution_count": null,
   "id": "a85b7f4d",
   "metadata": {
    "scrolled": true
   },
   "outputs": [],
   "source": [
    "# Checking Structural Similarity Index score that is higher than 0.75(threshold)\n",
    "\n",
    "df_ano[df_ano > 0.70].count()"
   ]
  },
  {
   "cell_type": "markdown",
   "id": "d545cdc2",
   "metadata": {},
   "source": [
    "## Anomalous Dice"
   ]
  },
  {
   "cell_type": "code",
   "execution_count": null,
   "id": "36e3f122",
   "metadata": {},
   "outputs": [],
   "source": [
    "plt.hist(img_a) \n",
    "plt.title(\"Histogram\") \n",
    "plt.show()"
   ]
  },
  {
   "cell_type": "markdown",
   "id": "3ee9a07e",
   "metadata": {},
   "source": [
    "### F1 Score"
   ]
  },
  {
   "cell_type": "code",
   "execution_count": 60,
   "id": "d785dd94",
   "metadata": {},
   "outputs": [],
   "source": [
    "True_Positives = 2793\n",
    "False_Positives = 1\n",
    "False_Negatives = 1584"
   ]
  },
  {
   "cell_type": "markdown",
   "id": "a34e2bfb",
   "metadata": {},
   "source": [
    "Precision = TruePositives / (TruePositives + FalsePositives)\n",
    "Recall = TruePositives / (TruePositives + FalseNegatives)\n",
    "F-Measure = (2 * Precision * Recall) / (Precision + Recall)"
   ]
  },
  {
   "cell_type": "code",
   "execution_count": 62,
   "id": "a9818abc",
   "metadata": {},
   "outputs": [],
   "source": [
    "Precision = True_Positives / (True_Positives + False_Positives)\n",
    "Recall = True_Positives / (True_Positives + False_Negatives)"
   ]
  },
  {
   "cell_type": "code",
   "execution_count": 63,
   "id": "b0111f2c",
   "metadata": {},
   "outputs": [
    {
     "data": {
      "text/plain": [
       "0.9996420901932713"
      ]
     },
     "execution_count": 63,
     "metadata": {},
     "output_type": "execute_result"
    }
   ],
   "source": [
    "Precision"
   ]
  },
  {
   "cell_type": "code",
   "execution_count": 64,
   "id": "4f7aca47",
   "metadata": {},
   "outputs": [
    {
     "data": {
      "text/plain": [
       "0.6381082933516107"
      ]
     },
     "execution_count": 64,
     "metadata": {},
     "output_type": "execute_result"
    }
   ],
   "source": [
    "Recall"
   ]
  },
  {
   "cell_type": "code",
   "execution_count": 65,
   "id": "9eff9148",
   "metadata": {},
   "outputs": [
    {
     "data": {
      "text/plain": [
       "0.7789708548319619"
      ]
     },
     "execution_count": 65,
     "metadata": {},
     "output_type": "execute_result"
    }
   ],
   "source": [
    "(2*Precision*Recall) / (Precision+Recall)"
   ]
  },
  {
   "cell_type": "code",
   "execution_count": null,
   "id": "edc5def3",
   "metadata": {},
   "outputs": [],
   "source": []
  }
 ],
 "metadata": {
  "kernelspec": {
   "display_name": "ComputerVision",
   "language": "python",
   "name": "computervision"
  },
  "language_info": {
   "codemirror_mode": {
    "name": "ipython",
    "version": 3
   },
   "file_extension": ".py",
   "mimetype": "text/x-python",
   "name": "python",
   "nbconvert_exporter": "python",
   "pygments_lexer": "ipython3",
   "version": "3.7.11"
  }
 },
 "nbformat": 4,
 "nbformat_minor": 5
}
